{
 "cells": [
  {
   "cell_type": "markdown",
   "metadata": {},
   "source": [
    "# SVM for classification, without and with kernels\n",
    "\n",
    "In this notebook we are going to explore the use of Support Vector Machines (SVMs) for image classification. We are going to use the famous MNIST dataset, that is a dataset of handwritten digits. We get the data from mldata.org, that is a public repository for machine learning data.\n",
    "\n",
    "The dataset consists of 70,000 images of handwritten digits (i.e., 0, 1, ... 9). Each image is 28 pixels by 28 pixels and we can think of it as a vector of 28x28 = 784 numbers. Each number is an integer between 0 and 255. For each image we have the corresponding label (i.e., 0, 1, ..., 9)."
   ]
  },
  {
   "cell_type": "code",
   "execution_count": 1,
   "metadata": {},
   "outputs": [],
   "source": [
    "#load the required packages\n",
    "\n",
    "%matplotlib inline  \n",
    "\n",
    "import numpy as np\n",
    "import matplotlib.pyplot as plt\n",
    "\n",
    "import sklearn\n",
    "from sklearn.datasets import fetch_openml"
   ]
  },
  {
   "cell_type": "code",
   "execution_count": 2,
   "metadata": {},
   "outputs": [],
   "source": [
    "ID = 2005949\n",
    "np.random.seed(ID)"
   ]
  },
  {
   "cell_type": "markdown",
   "metadata": {},
   "source": [
    "Now let's load the dataset. 'data' contains the input, 'target' contains the label. We normalize the data by dividing each value by 255 so that each value is in [0,1]"
   ]
  },
  {
   "cell_type": "code",
   "execution_count": 3,
   "metadata": {},
   "outputs": [],
   "source": [
    "#load the MNIST dataset and let's normalize the features so that each value is in [0,1]\n",
    "mnist = fetch_openml('mnist_784', version=1)\n",
    "# rescale the data\n",
    "X, y = mnist.data / 255., mnist.target\n"
   ]
  },
  {
   "cell_type": "markdown",
   "metadata": {},
   "source": [
    "Now split into training and test. We keep 500 samples in the training set. Make sure that each label is present at least 10 times\n",
    "in training. If it is not, then keep adding permutations to the initial data until this \n",
    "happens.\n",
    "\n",
    "**IMPORTANT**: if you cannot run the SVM with 500 samples or 1000 samples (see below), try with a smaller number of samples (e.g. 200 here and 400 below)."
   ]
  },
  {
   "cell_type": "code",
   "execution_count": 4,
   "metadata": {
    "scrolled": true
   },
   "outputs": [
    {
     "name": "stdout",
     "output_type": "stream",
     "text": [
      "[[0. 0. 0. ... 0. 0. 0.]\n",
      " [0. 0. 0. ... 0. 0. 0.]\n",
      " [0. 0. 0. ... 0. 0. 0.]\n",
      " ...\n",
      " [0. 0. 0. ... 0. 0. 0.]\n",
      " [0. 0. 0. ... 0. 0. 0.]\n",
      " [0. 0. 0. ... 0. 0. 0.]]\n",
      "['3' '0' '0' ... '5' '4' '4']\n",
      "Labels and frequencies in training dataset: \n"
     ]
    },
    {
     "data": {
      "text/plain": [
       "(array(['0', '1', '2', '3', '4', '5', '6', '7', '8', '9'], dtype=object),\n",
       " array([52, 56, 71, 43, 48, 38, 53, 52, 44, 43], dtype=int64))"
      ]
     },
     "execution_count": 4,
     "metadata": {},
     "output_type": "execute_result"
    }
   ],
   "source": [
    "#random permute the data and split into training and test taking the first 500\n",
    "#data samples as training and the rests as test\n",
    "permutation = np.random.permutation(X.shape[0])\n",
    "\n",
    "X = X[permutation]\n",
    "y = y[permutation]\n",
    "print(X)\n",
    "print(y)\n",
    "m_training = 500\n",
    "\n",
    "X_train, X_test = X[:m_training], X[m_training:]\n",
    "y_train, y_test = y[:m_training], y[m_training:]\n",
    "\n",
    "print(\"Labels and frequencies in training dataset: \")\n",
    "np.unique(y_train, return_counts = True)"
   ]
  },
  {
   "cell_type": "markdown",
   "metadata": {},
   "source": [
    "We now provide a function to print an image in a dataset, the corresponding true label, and the index of the image in the dataset."
   ]
  },
  {
   "cell_type": "code",
   "execution_count": null,
   "metadata": {},
   "outputs": [],
   "source": [
    "#function for plotting a digit and printing the corresponding labe\n",
    "def plot_digit(X_matrix, labels, index):\n",
    "    print(\"INPUT:\")\n",
    "    plt.imshow(\n",
    "        X_matrix[index].reshape(28,28),\n",
    "        cmap          = plt.cm.gray_r,\n",
    "        interpolation = \"nearest\"\n",
    "    )\n",
    "    plt.show()\n",
    "    print(\"LABEL: %s\" % labels[index])\n",
    "    return"
   ]
  },
  {
   "cell_type": "markdown",
   "metadata": {},
   "source": [
    "As an example, let's print the 100-th image in X_train and the 40,000-th image in X_test and their true labels."
   ]
  },
  {
   "cell_type": "code",
   "execution_count": null,
   "metadata": {},
   "outputs": [
    {
     "name": "stdout",
     "output_type": "stream",
     "text": [
      "INPUT:\n"
     ]
    },
    {
     "data": {
      "image/png": "[encoded data removed]",
      "text/plain": [
       "<Figure size 432x288 with 1 Axes>"
      ]
     },
     "metadata": {
      "needs_background": "light"
     },
     "output_type": "display_data"
    },
    {
     "name": "stdout",
     "output_type": "stream",
     "text": [
      "LABEL: 2\n",
      "INPUT:\n"
     ]
    },
    {
     "data": {
      "image/png": "[encoded data removed]",
      "text/plain": [
       "<Figure size 432x288 with 1 Axes>"
      ]
     },
     "metadata": {
      "needs_background": "light"
     },
     "output_type": "display_data"
    },
    {
     "name": "stdout",
     "output_type": "stream",
     "text": [
      "LABEL: 4\n"
     ]
    }
   ],
   "source": [
    "#let's try the plotting function\n",
    "plot_digit(X_train,y_train,100)\n",
    "plot_digit(X_test,y_test,40000)"
   ]
  },
  {
   "cell_type": "markdown",
   "metadata": {},
   "source": [
    "## TO DO 1\n",
    "Run SVM with cross validation to pick a kernel and values of parameters. Use a 5-fold cross-validation to pick the best kernel and choice of parameters. We provide some potential choice for parameters, but change the grid if needed (e.g., it takes too long). For the SVM for classification use SVC from sklearn.svm; for the grid search we suggest you use GridSearchCV from sklearn.model_selection, but you can implement your own cross-validation for model selection if you prefer.\n",
    "\n",
    "Print the best parameters used as well as the score obtained by the best model"
   ]
  },
  {
   "cell_type": "code",
   "execution_count": null,
   "metadata": {},
   "outputs": [
    {
     "name": "stderr",
     "output_type": "stream",
     "text": [
      "C:\\Users\\irems\\Anaconda3\\lib\\site-packages\\sklearn\\model_selection\\_search.py:841: DeprecationWarning: The default of the `iid` parameter will change from True to False in version 0.22 and will be removed in 0.24. This will change numeric results when test-set sizes are unequal.\n",
      "  DeprecationWarning)\n"
     ]
    },
    {
     "name": "stdout",
     "output_type": "stream",
     "text": [
      "RESULTS FOR LINEAR KERNEL\n",
      "\n",
      "Best parameters set found:\n",
      "{'C': 1}\n",
      "Score with best parameters:\n",
      "0.87\n",
      "\n",
      "All scores on the grid:\n",
      "{'mean_fit_time': array([0.21499119, 0.21952252, 0.20584483]), 'std_fit_time': array([0.00580949, 0.00937339, 0.00795787]), 'mean_score_time': array([0.05025945, 0.05238342, 0.04923792]), 'std_score_time': array([0.00385867, 0.00390589, 0.00194746]), 'param_C': masked_array(data=[1, 10, 100],\n",
      "             mask=[False, False, False],\n",
      "       fill_value='?',\n",
      "            dtype=object), 'params': [{'C': 1}, {'C': 10}, {'C': 100}], 'split0_test_score': array([0.88571429, 0.88571429, 0.88571429]), 'split1_test_score': array([0.91262136, 0.91262136, 0.91262136]), 'split2_test_score': array([0.87128713, 0.87128713, 0.87128713]), 'split3_test_score': array([0.86458333, 0.86458333, 0.86458333]), 'split4_test_score': array([0.81052632, 0.81052632, 0.81052632]), 'mean_test_score': array([0.87, 0.87, 0.87]), 'std_test_score': array([0.0332279, 0.0332279, 0.0332279]), 'rank_test_score': array([1, 1, 1]), 'split0_train_score': array([1., 1., 1.]), 'split1_train_score': array([1., 1., 1.]), 'split2_train_score': array([1., 1., 1.]), 'split3_train_score': array([1., 1., 1.]), 'split4_train_score': array([1., 1., 1.]), 'mean_train_score': array([1., 1., 1.]), 'std_train_score': array([0., 0., 0.])}\n"
     ]
    },
    {
     "name": "stderr",
     "output_type": "stream",
     "text": [
      "C:\\Users\\irems\\Anaconda3\\lib\\site-packages\\sklearn\\model_selection\\_search.py:841: DeprecationWarning: The default of the `iid` parameter will change from True to False in version 0.22 and will be removed in 0.24. This will change numeric results when test-set sizes are unequal.\n",
      "  DeprecationWarning)\n"
     ]
    },
    {
     "name": "stdout",
     "output_type": "stream",
     "text": [
      "\n",
      "RESULTS FOR POLY DEGREE=2 KERNEL\n",
      "\n",
      "Best parameters set found:\n",
      "{'C': 10, 'gamma': 0.01}\n",
      "Score with best parameters:\n",
      "0.862\n",
      "\n",
      "All scores on the grid:\n",
      "{'mean_fit_time': array([0.30629058, 0.27000904, 0.27107716, 0.27357101, 0.27398758,\n",
      "       0.27758002, 0.27269492, 0.28113589, 0.28054643]), 'std_fit_time': array([0.01010541, 0.00738846, 0.00755522, 0.01333393, 0.0089404 ,\n",
      "       0.00712646, 0.00804594, 0.00608977, 0.00986864]), 'mean_score_time': array([0.05891991, 0.0545464 , 0.05208468, 0.05226812, 0.0547555 ,\n",
      "       0.05321498, 0.05236578, 0.05285778, 0.05415955]), 'std_score_time': array([0.00216478, 0.00475899, 0.00258195, 0.00273221, 0.00242221,\n",
      "       0.00266118, 0.00207985, 0.00339747, 0.00343761]), 'param_C': masked_array(data=[1, 1, 1, 10, 10, 10, 100, 100, 100],\n",
      "             mask=[False, False, False, False, False, False, False, False,\n",
      "                   False],\n",
      "       fill_value='?',\n",
      "            dtype=object), 'param_gamma': masked_array(data=[0.01, 0.1, 1.0, 0.01, 0.1, 1.0, 0.01, 0.1, 1.0],\n",
      "             mask=[False, False, False, False, False, False, False, False,\n",
      "                   False],\n",
      "       fill_value='?',\n",
      "            dtype=object), 'params': [{'C': 1, 'gamma': 0.01}, {'C': 1, 'gamma': 0.1}, {'C': 1, 'gamma': 1.0}, {'C': 10, 'gamma': 0.01}, {'C': 10, 'gamma': 0.1}, {'C': 10, 'gamma': 1.0}, {'C': 100, 'gamma': 0.01}, {'C': 100, 'gamma': 0.1}, {'C': 100, 'gamma': 1.0}], 'split0_test_score': array([0.85714286, 0.84761905, 0.84761905, 0.85714286, 0.84761905,\n",
      "       0.84761905, 0.84761905, 0.84761905, 0.84761905]), 'split1_test_score': array([0.88349515, 0.90291262, 0.90291262, 0.90291262, 0.90291262,\n",
      "       0.90291262, 0.90291262, 0.90291262, 0.90291262]), 'split2_test_score': array([0.87128713, 0.87128713, 0.87128713, 0.87128713, 0.87128713,\n",
      "       0.87128713, 0.87128713, 0.87128713, 0.87128713]), 'split3_test_score': array([0.84375   , 0.88541667, 0.88541667, 0.88541667, 0.88541667,\n",
      "       0.88541667, 0.88541667, 0.88541667, 0.88541667]), 'split4_test_score': array([0.77894737, 0.78947368, 0.78947368, 0.78947368, 0.78947368,\n",
      "       0.78947368, 0.78947368, 0.78947368, 0.78947368]), 'mean_test_score': array([0.848, 0.86 , 0.86 , 0.862, 0.86 , 0.86 , 0.86 , 0.86 , 0.86 ]), 'std_test_score': array([0.03600106, 0.03881184, 0.03881184, 0.03836512, 0.03881184,\n",
      "       0.03881184, 0.03881184, 0.03881184, 0.03881184]), 'rank_test_score': array([9, 2, 2, 1, 2, 2, 2, 2, 2]), 'split0_train_score': array([0.96202532, 1.        , 1.        , 1.        , 1.        ,\n",
      "       1.        , 1.        , 1.        , 1.        ]), 'split1_train_score': array([0.94458438, 1.        , 1.        , 1.        , 1.        ,\n",
      "       1.        , 1.        , 1.        , 1.        ]), 'split2_train_score': array([0.96491228, 1.        , 1.        , 1.        , 1.        ,\n",
      "       1.        , 1.        , 1.        , 1.        ]), 'split3_train_score': array([0.96287129, 1.        , 1.        , 1.        , 1.        ,\n",
      "       1.        , 1.        , 1.        , 1.        ]), 'split4_train_score': array([0.95308642, 1.        , 1.        , 1.        , 1.        ,\n",
      "       1.        , 1.        , 1.        , 1.        ]), 'mean_train_score': array([0.95749594, 1.        , 1.        , 1.        , 1.        ,\n",
      "       1.        , 1.        , 1.        , 1.        ]), 'std_train_score': array([0.00762317, 0.        , 0.        , 0.        , 0.        ,\n",
      "       0.        , 0.        , 0.        , 0.        ])}\n"
     ]
    },
    {
     "name": "stderr",
     "output_type": "stream",
     "text": [
      "C:\\Users\\irems\\Anaconda3\\lib\\site-packages\\sklearn\\model_selection\\_search.py:841: DeprecationWarning: The default of the `iid` parameter will change from True to False in version 0.22 and will be removed in 0.24. This will change numeric results when test-set sizes are unequal.\n",
      "  DeprecationWarning)\n"
     ]
    },
    {
     "name": "stdout",
     "output_type": "stream",
     "text": [
      "\n",
      "RESULTS FOR rbf KERNEL\n",
      "\n",
      "Best parameters set found:\n",
      "{'C': 10, 'gamma': 0.01}\n",
      "Score with best parameters:\n",
      "0.882\n",
      "\n",
      "All scores on the grid:\n",
      "{'mean_fit_time': array([0.34282188, 0.52742658, 0.53624363, 0.38024158, 0.51640096,\n",
      "       0.52657685, 0.38012528, 0.51747403, 0.52225575]), 'std_fit_time': array([0.008936  , 0.01186422, 0.01225446, 0.0124836 , 0.01201077,\n",
      "       0.00859602, 0.00560592, 0.01747606, 0.0146838 ]), 'mean_score_time': array([0.06293273, 0.0715436 , 0.06920371, 0.06192961, 0.07081656,\n",
      "       0.07220736, 0.0638701 , 0.0704011 , 0.07060504]), 'std_score_time': array([0.00409127, 0.00260087, 0.00345178, 0.0045065 , 0.00552479,\n",
      "       0.00265325, 0.00484451, 0.00184287, 0.00397177]), 'param_C': masked_array(data=[1, 1, 1, 10, 10, 10, 100, 100, 100],\n",
      "             mask=[False, False, False, False, False, False, False, False,\n",
      "                   False],\n",
      "       fill_value='?',\n",
      "            dtype=object), 'param_gamma': masked_array(data=[0.01, 0.1, 1.0, 0.01, 0.1, 1.0, 0.01, 0.1, 1.0],\n",
      "             mask=[False, False, False, False, False, False, False, False,\n",
      "                   False],\n",
      "       fill_value='?',\n",
      "            dtype=object), 'params': [{'C': 1, 'gamma': 0.01}, {'C': 1, 'gamma': 0.1}, {'C': 1, 'gamma': 1.0}, {'C': 10, 'gamma': 0.01}, {'C': 10, 'gamma': 0.1}, {'C': 10, 'gamma': 1.0}, {'C': 100, 'gamma': 0.01}, {'C': 100, 'gamma': 0.1}, {'C': 100, 'gamma': 1.0}], 'split0_test_score': array([0.86666667, 0.33333333, 0.14285714, 0.86666667, 0.40952381,\n",
      "       0.14285714, 0.86666667, 0.40952381, 0.14285714]), 'split1_test_score': array([0.93203883, 0.32038835, 0.13592233, 0.95145631, 0.36893204,\n",
      "       0.13592233, 0.95145631, 0.36893204, 0.13592233]), 'split2_test_score': array([0.87128713, 0.27722772, 0.13861386, 0.89108911, 0.32673267,\n",
      "       0.13861386, 0.89108911, 0.32673267, 0.13861386]), 'split3_test_score': array([0.875     , 0.32291667, 0.14583333, 0.88541667, 0.34375   ,\n",
      "       0.14583333, 0.88541667, 0.34375   , 0.14583333]), 'split4_test_score': array([0.83157895, 0.31578947, 0.14736842, 0.81052632, 0.31578947,\n",
      "       0.14736842, 0.81052632, 0.31578947, 0.14736842]), 'mean_test_score': array([0.876, 0.314, 0.142, 0.882, 0.354, 0.142, 0.882, 0.354, 0.142]), 'std_test_score': array([0.03232333, 0.01938862, 0.00428681, 0.04508543, 0.03378028,\n",
      "       0.00428681, 0.04508543, 0.03378028, 0.00428681]), 'rank_test_score': array([3, 6, 7, 1, 4, 7, 1, 4, 7]), 'split0_train_score': array([0.97974684, 1.        , 1.        , 1.        , 1.        ,\n",
      "       1.        , 1.        , 1.        , 1.        ]), 'split1_train_score': array([0.97732997, 1.        , 1.        , 1.        , 1.        ,\n",
      "       1.        , 1.        , 1.        , 1.        ]), 'split2_train_score': array([0.98746867, 1.        , 1.        , 1.        , 1.        ,\n",
      "       1.        , 1.        , 1.        , 1.        ]), 'split3_train_score': array([0.97772277, 1.        , 1.        , 1.        , 1.        ,\n",
      "       1.        , 1.        , 1.        , 1.        ]), 'split4_train_score': array([0.98271605, 1.        , 1.        , 1.        , 1.        ,\n",
      "       1.        , 1.        , 1.        , 1.        ]), 'mean_train_score': array([0.98099686, 1.        , 1.        , 1.        , 1.        ,\n",
      "       1.        , 1.        , 1.        , 1.        ]), 'std_train_score': array([0.00375681, 0.        , 0.        , 0.        , 0.        ,\n",
      "       0.        , 0.        , 0.        , 0.        ])}\n"
     ]
    }
   ],
   "source": [
    "#import SVC\n",
    "from sklearn.svm import SVC\n",
    "#import for Cross-Validation\n",
    "from sklearn.model_selection import GridSearchCV\n",
    "\n",
    "# parameters for linear SVM\n",
    "parameters = {'C': [1, 10, 100]}\n",
    "\n",
    "#run linear SVM\n",
    "linear_SVM = SVC(kernel='linear')\n",
    "\n",
    "\n",
    "#find best model uusing 5-fold CV \n",
    "#and train it using all the training data\n",
    "# ADD CODE\n",
    "#cv default value if None, changed from 3-fold to 5-fold.\n",
    "cross_val = GridSearchCV(estimator=linear_SVM, param_grid =parameters, cv = 5)\n",
    "cross_val.fit(X_train, y_train)\n",
    "\n",
    "\n",
    "print ('RESULTS FOR LINEAR KERNEL\\n')\n",
    " \n",
    "print(\"Best parameters set found:\")\n",
    "# ADD CODE\n",
    "print(cross_val.best_params_)\n",
    "\n",
    "print(\"Score with best parameters:\")\n",
    "# ADD CODE\n",
    "print(cross_val.best_score_)\n",
    "\n",
    "    \n",
    "print(\"\\nAll scores on the grid:\")\n",
    "print(cross_val.cv_results_)\n",
    "\n",
    "\n",
    "# parameters for poly with degree 2 kernel\n",
    "parameters = {'C': [1, 10, 100],'gamma':[0.01,0.1,1.]}\n",
    "\n",
    "#run SVM with poly of degree 2 kernel\n",
    "poly2_SVM = SVC(kernel='poly',degree=2)\n",
    "\n",
    "# ADD CODE: DO THE SAME AS ABOVE FOR POLYNOMIAL KERNEL WITH DEGREE=2\n",
    "\n",
    "cross_val2 = GridSearchCV(estimator=poly2_SVM, param_grid =parameters, cv = 5)\n",
    "\n",
    "cross_val2.fit(X_train, y_train)\n",
    "\n",
    "print ('\\nRESULTS FOR POLY DEGREE=2 KERNEL\\n')\n",
    "\n",
    "print(\"Best parameters set found:\")\n",
    "# ADD CODE\n",
    "print(cross_val2.best_params_)\n",
    "\n",
    "print(\"Score with best parameters:\")\n",
    "print(cross_val2.best_score_)\n",
    "\n",
    "print(\"\\nAll scores on the grid:\")\n",
    "# ADD CODE\n",
    "print(cross_val2.cv_results_)\n",
    "\n",
    "# parameters for rbf SVM\n",
    "parameters = {'C': [1, 10, 100],'gamma':[0.01,0.1,1.]}\n",
    "\n",
    "#run SVM with rbf kernel\n",
    "rbf_SVM = SVC(kernel='rbf')\n",
    "cross_val3 = GridSearchCV(estimator=rbf_SVM, param_grid =parameters, cv = 5)\n",
    "\n",
    "cross_val3.fit(X_train, y_train)\n",
    "\n",
    "# ADD CODE: DO THE SAME AS ABOVE FOR RBF KERNEL\n",
    "\n",
    "print ('\\nRESULTS FOR rbf KERNEL\\n')\n",
    "\n",
    "print(\"Best parameters set found:\")\n",
    "print(cross_val3.best_params_)\n",
    "\n",
    "print(\"Score with best parameters:\")\n",
    "print(cross_val3.best_score_)\n",
    "\n",
    "print(\"\\nAll scores on the grid:\")\n",
    "print(cross_val3.cv_results_) "
   ]
  },
  {
   "cell_type": "markdown",
   "metadata": {},
   "source": [
    "## TO DO 2\n",
    "For the \"best\" SVM kernel and choice of parameters from above, train the model on the entire training set and measure the training error. Also make predictions on the test set and measure the test error. Print the training and the test error."
   ]
  },
  {
   "cell_type": "code",
   "execution_count": null,
   "metadata": {},
   "outputs": [
    {
     "name": "stderr",
     "output_type": "stream",
     "text": [
      "C:\\Users\\irems\\Anaconda3\\lib\\site-packages\\sklearn\\svm\\base.py:196: FutureWarning: The default value of gamma will change from 'auto' to 'scale' in version 0.22 to account better for unscaled features. Set gamma explicitly to 'auto' or 'scale' to avoid this warning.\n",
      "  \"avoid this warning.\", FutureWarning)\n"
     ]
    },
    {
     "name": "stdout",
     "output_type": "stream",
     "text": [
      "Best SVM training error: 0.160000\n",
      "Best SVM test error: 0.231468\n"
     ]
    }
   ],
   "source": [
    "#get training and test error for the best SVM model from CV\n",
    "parameters = {'C': [10],'gamma':[0.01]}\n",
    "rbf_SVM = SVC(kernel='rbf')\n",
    "best_SVM = rbf_SVM\n",
    "\n",
    "# fit the model on the entire training set\n",
    "# ADD CODE\n",
    "best_SVM.fit(X_train, y_train)\n",
    "\n",
    "#get the training and test error\n",
    "training_error = 1. - best_SVM.score(X_train,y_train)\n",
    "test_error = 1. - best_SVM.score(X_test,y_test)\n",
    "\n",
    "print (\"Best SVM training error: %f\" % training_error)\n",
    "print (\"Best SVM test error: %f\" % test_error)"
   ]
  },
  {
   "cell_type": "markdown",
   "metadata": {},
   "source": [
    "## Use logistic regression for comparison\n",
    "\n",
    "## TO DO 3\n",
    "\n",
    "Just for comparison let's also use logistic regression, first with the default values of the parameter for regularization and then with cross-validation to fix the value of the parameter. For cross validation, use 5-fold cross validation and the default values of the regularization parameters for the function linear_model.LogisticRegressionCV(...)"
   ]
  },
  {
   "cell_type": "code",
   "execution_count": null,
   "metadata": {},
   "outputs": [
    {
     "name": "stderr",
     "output_type": "stream",
     "text": [
      "C:\\Users\\irems\\Anaconda3\\lib\\site-packages\\sklearn\\linear_model\\logistic.py:433: FutureWarning: Default solver will be changed to 'lbfgs' in 0.22. Specify a solver to silence this warning.\n",
      "  FutureWarning)\n",
      "C:\\Users\\irems\\Anaconda3\\lib\\site-packages\\sklearn\\linear_model\\logistic.py:460: FutureWarning: Default multi_class will be changed to 'auto' in 0.22. Specify the multi_class option to silence this warning.\n",
      "  \"this warning.\", FutureWarning)\n"
     ]
    },
    {
     "name": "stdout",
     "output_type": "stream",
     "text": [
      "Best logistic regression training error: 0.000000\n",
      "Best logistic regression test error: 0.163755\n"
     ]
    },
    {
     "name": "stderr",
     "output_type": "stream",
     "text": [
      "C:\\Users\\irems\\Anaconda3\\lib\\site-packages\\sklearn\\linear_model\\logistic.py:460: FutureWarning: Default multi_class will be changed to 'auto' in 0.22. Specify the multi_class option to silence this warning.\n",
      "  \"this warning.\", FutureWarning)\n"
     ]
    },
    {
     "name": "stdout",
     "output_type": "stream",
     "text": [
      "Best logistic regression training error: 0.000000\n",
      "Best logistic regression test error: 0.172446\n"
     ]
    }
   ],
   "source": [
    "from sklearn import linear_model\n",
    "\n",
    "lr = linear_model.LogisticRegression()\n",
    "# fit the model on the training data\n",
    "# ADD CODE\n",
    "lr.fit(X_train, y_train)\n",
    "\n",
    "#compute training and test error for model above\n",
    "training_error = 1 - lr.score(X_train,y_train)\n",
    "test_error = 1 - lr.score(X_test,y_test)\n",
    "\n",
    "print (\"Best logistic regression training error: %f\" % training_error)\n",
    "print (\"Best logistic regression test error: %f\" % test_error)\n",
    "\n",
    "#logistic regression with 5-fold CV: you can use use linear_model.LogisticRegressionCV\n",
    "# use 5-fold CV to find the best choice of the parameter, than train\n",
    "# the model on the entire training set\n",
    "#Changed in version 0.22: cv default value if None changed from 3-fold to 5-fold.\n",
    "lr_cv = linear_model.LogisticRegressionCV(cv = 5)\n",
    "lr_cv.fit(X_train,y_train)\n",
    "training_error_cv = 1 - lr_cv.score(X_train, y_train)\n",
    "test_error_cv = 1 - lr_cv.score(X_test, y_test)\n",
    "\n",
    "print (\"Best logistic regression training error: %f\" % training_error_cv)\n",
    "print (\"Best logistic regression test error: %f\" % test_error_cv)"
   ]
  },
  {
   "cell_type": "markdown",
   "metadata": {},
   "source": [
    "## TO DO 4 \n",
    "Compare and comment the results from SVM and logistic regression.\n",
    "\n",
    "\n",
    "With SVM rbf kernel, which is the best one according to the results, I have had the training error=0.16 whereas the test_error= 0.23, with logistic regression both the training errors are 0.0 and the test error results are lower than rbf svm, which is respectively 0.1637 and 0.172.\n",
    "I think that maybe if we had more data, it would make more sense choosing rbf svm, with respect to the error values. For logistic regression, in my opinion the data size is too low therefore the cross validation one has a higher error compared to the other logistic regressor"
   ]
  },
  {
   "cell_type": "markdown",
   "metadata": {},
   "source": [
    "## TO DO 5\n",
    "Write the code that finds and plots a digit that is missclassified by logistic regression (optimized for the regularization parameter) and correctly classified by the \"best\" SVM."
   ]
  },
  {
   "cell_type": "code",
   "execution_count": null,
   "metadata": {},
   "outputs": [
    {
     "name": "stdout",
     "output_type": "stream",
     "text": [
      "Original Label :  ['0'] RBF SVM Prediction: ['0'] Logistic Regression Prediction :  ['3']\n",
      "INPUT:\n"
     ]
    },
    {
     "data": {
      "image/png": "[encoded data removed]",
      "text/plain": [
       "<Figure size 432x288 with 1 Axes>"
      ]
     },
     "metadata": {
      "needs_background": "light"
     },
     "output_type": "display_data"
    },
    {
     "name": "stdout",
     "output_type": "stream",
     "text": [
      "LABEL: ['0']\n"
     ]
    }
   ],
   "source": [
    "# ADD CODE\n",
    "prediction_for_lr = lr.predict(X_test)  #to get the values which logistic regression predicted in order to compare the actual labels\n",
    "pred_lr = (prediction_for_lr == y_test)  #comparing the actual labels and the ones founded by lr\n",
    "\n",
    "prediction_for_svm = best_SVM.predict(X_test)  #to get the values which RBF SVM predicted in order to compare the actual label\n",
    "pred_SVM = (prediction_for_svm == y_test)    #comparing the actual labels and the ones founded by rbf kernel\n",
    "  \n",
    "misclassified_for_lr = np.asarray(np.where(pred_lr == False))  #misclassified ones for logistic regression\n",
    "correctly_classified_rbf_svm = np.asarray(np.where(pred_SVM == True))  #correclty classified ones for SVM\n",
    "\n",
    "goal = np.in1d(misclassified_for_lr,correctly_classified_rbf_svm) #goal is to find the ones correclty classified for svm and misclassified by lr\n",
    "indexes_of_goals = np.where(goal == True)  #indexes of the values which is found\n",
    "\n",
    "mlr_csvm = np.take(misclassified_for_lr, indexes_of_goals) #the ones which has been missclassified by logistic regression, but correctly classified with svm\n",
    "mlr_csvm = mlr_csvm.reshape((len(mlr_csvm[0])), len(mlr_csvm))\n",
    "index = mlr_csvm[1]\n",
    "print(\"Original Label : \",y_test[index], \"RBF SVM Prediction:\", prediction_for_svm[index], \"Logistic Regression Prediction : \", prediction_for_lr[index] )\n",
    "plot_digit(X_test,y_test,index)\n",
    "\n"
   ]
  },
  {
   "cell_type": "markdown",
   "metadata": {},
   "source": [
    "## More data\n",
    "Now let's do the same but using 1000 data points for training. \n",
    "\n",
    "## TO DO 6\n",
    "Repeat the entire analysis above using 1000 samples. Of course you can copy the code from above."
   ]
  },
  {
   "cell_type": "markdown",
   "metadata": {},
   "source": [
    "## TO DO 7\n",
    "Compare and comment on the differences with the results above.\n"
   ]
  },
  {
   "cell_type": "markdown",
   "metadata": {},
   "source": [
    "## Compare and result:\n",
    "\n",
    "For 1000 samples, the results are better for all the models. For linear, poly of degree 2, and rbf kernel SVMs, the best scores were 0.87, 0.862. 0.882, after making the samples 1000, the best scores went up to the numbers: 0.884,0.907,0.923 which was a clear improvement for all these SVMs with different kernels. The best SVM remained the same as rbf kernel and for rbf kernel the training and test error were:0.16 and 0.23. After increasing the sample count the training and test error became: 0.09 and 0.134, which is also a visible improvement. For logistic regression the first one had the training and test error: 0.00 , 0.163 and the second one had the training error:0.00 and 0.17.\n",
    "After increasing the total number of samples, the training and test error has improved as well too: first one: 0.00    0.134  second one: 0.00  0.144.\n",
    "But still with 1000 samples logistic regression performed better than the best SVM which is rbf.\n",
    "In my opinion if the number of samples keep increasing, then the SVM's will outperform the logistic regression"
   ]
  },
  {
   "cell_type": "code",
   "execution_count": null,
   "metadata": {
    "scrolled": false
   },
   "outputs": [
    {
     "name": "stdout",
     "output_type": "stream",
     "text": [
      "RESULTS FOR LINEAR KERNEL\n",
      "\n",
      "Best parameters set found:\n",
      "{'C': 1}\n",
      "Score with best parameters:\n",
      "0.884\n",
      "\n",
      "All scores on the grid:\n",
      "{'mean_fit_time': array([0.73971148, 0.75932922, 0.72617531]), 'std_fit_time': array([0.02972851, 0.03920526, 0.02306823]), 'mean_score_time': array([0.23215013, 0.21656942, 0.21828938]), 'std_score_time': array([0.01316546, 0.01534826, 0.01000786]), 'param_C': masked_array(data=[1, 10, 100],\n",
      "             mask=[False, False, False],\n",
      "       fill_value='?',\n",
      "            dtype=object), 'params': [{'C': 1}, {'C': 10}, {'C': 100}], 'split0_test_score': array([0.91666667, 0.91666667, 0.91666667]), 'split1_test_score': array([0.86633663, 0.86633663, 0.86633663]), 'split2_test_score': array([0.87, 0.87, 0.87]), 'split3_test_score': array([0.88944724, 0.88944724, 0.88944724]), 'split4_test_score': array([0.87692308, 0.87692308, 0.87692308]), 'mean_test_score': array([0.884, 0.884, 0.884]), 'std_test_score': array([0.01831897, 0.01831897, 0.01831897]), 'rank_test_score': array([1, 1, 1]), 'split0_train_score': array([1., 1., 1.]), 'split1_train_score': array([1., 1., 1.]), 'split2_train_score': array([1., 1., 1.]), 'split3_train_score': array([1., 1., 1.]), 'split4_train_score': array([1., 1., 1.]), 'mean_train_score': array([1., 1., 1.]), 'std_train_score': array([0., 0., 0.])}\n",
      "\n",
      "RESULTS FOR POLY DEGREE=2 KERNEL\n",
      "\n",
      "Best parameters set found:\n",
      "{'C': 10, 'gamma': 0.01}\n",
      "Score with best parameters:\n",
      "0.907\n",
      "\n",
      "All scores on the grid:\n",
      "{'mean_fit_time': array([1.14615374, 0.95598669, 0.9336802 , 0.93556323, 0.89424906,\n",
      "       0.94210377, 0.93791161, 0.93546686, 0.91867762]), 'std_fit_time': array([0.03412605, 0.06043408, 0.04577031, 0.04133593, 0.02368869,\n",
      "       0.04969409, 0.03885319, 0.02231938, 0.03195896]), 'mean_score_time': array([0.25368619, 0.21502218, 0.21419158, 0.21730142, 0.21448212,\n",
      "       0.21670008, 0.21154056, 0.21693983, 0.21991773]), 'std_score_time': array([0.00880673, 0.00717605, 0.02067906, 0.01332152, 0.0105888 ,\n",
      "       0.00605258, 0.00829513, 0.00611974, 0.01216586]), 'param_C': masked_array(data=[1, 1, 1, 10, 10, 10, 100, 100, 100],\n",
      "             mask=[False, False, False, False, False, False, False, False,\n",
      "                   False],\n",
      "       fill_value='?',\n",
      "            dtype=object), 'param_gamma': masked_array(data=[0.01, 0.1, 1.0, 0.01, 0.1, 1.0, 0.01, 0.1, 1.0],\n",
      "             mask=[False, False, False, False, False, False, False, False,\n",
      "                   False],\n",
      "       fill_value='?',\n",
      "            dtype=object), 'params': [{'C': 1, 'gamma': 0.01}, {'C': 1, 'gamma': 0.1}, {'C': 1, 'gamma': 1.0}, {'C': 10, 'gamma': 0.01}, {'C': 10, 'gamma': 0.1}, {'C': 10, 'gamma': 1.0}, {'C': 100, 'gamma': 0.01}, {'C': 100, 'gamma': 0.1}, {'C': 100, 'gamma': 1.0}], 'split0_test_score': array([0.89215686, 0.91666667, 0.91666667, 0.91666667, 0.91666667,\n",
      "       0.91666667, 0.91666667, 0.91666667, 0.91666667]), 'split1_test_score': array([0.85643564, 0.87128713, 0.87128713, 0.87128713, 0.87128713,\n",
      "       0.87128713, 0.87128713, 0.87128713, 0.87128713]), 'split2_test_score': array([0.86 , 0.915, 0.915, 0.915, 0.915, 0.915, 0.915, 0.915, 0.915]), 'split3_test_score': array([0.89447236, 0.91457286, 0.91457286, 0.91959799, 0.91457286,\n",
      "       0.91457286, 0.91457286, 0.91457286, 0.91457286]), 'split4_test_score': array([0.87179487, 0.90769231, 0.90769231, 0.91282051, 0.90769231,\n",
      "       0.90769231, 0.90769231, 0.90769231, 0.90769231]), 'mean_test_score': array([0.875, 0.905, 0.905, 0.907, 0.905, 0.905, 0.905, 0.905, 0.905]), 'std_test_score': array([0.01587841, 0.01723372, 0.01723372, 0.01810207, 0.01723372,\n",
      "       0.01723372, 0.01723372, 0.01723372, 0.01723372]), 'rank_test_score': array([9, 2, 2, 1, 2, 2, 2, 2, 2]), 'split0_train_score': array([0.96859296, 1.        , 1.        , 1.        , 1.        ,\n",
      "       1.        , 1.        , 1.        , 1.        ]), 'split1_train_score': array([0.96741855, 1.        , 1.        , 1.        , 1.        ,\n",
      "       1.        , 1.        , 1.        , 1.        ]), 'split2_train_score': array([0.96875, 1.     , 1.     , 1.     , 1.     , 1.     , 1.     ,\n",
      "       1.     , 1.     ]), 'split3_train_score': array([0.96004994, 1.        , 1.        , 1.        , 1.        ,\n",
      "       1.        , 1.        , 1.        , 1.        ]), 'split4_train_score': array([0.96770186, 1.        , 1.        , 1.        , 1.        ,\n",
      "       1.        , 1.        , 1.        , 1.        ]), 'mean_train_score': array([0.96650266, 1.        , 1.        , 1.        , 1.        ,\n",
      "       1.        , 1.        , 1.        , 1.        ]), 'std_train_score': array([0.00326602, 0.        , 0.        , 0.        , 0.        ,\n",
      "       0.        , 0.        , 0.        , 0.        ])}\n"
     ]
    },
    {
     "name": "stderr",
     "output_type": "stream",
     "text": [
      "C:\\Users\\irems\\Anaconda3\\lib\\site-packages\\sklearn\\model_selection\\_search.py:841: DeprecationWarning: The default of the `iid` parameter will change from True to False in version 0.22 and will be removed in 0.24. This will change numeric results when test-set sizes are unequal.\n",
      "  DeprecationWarning)\n"
     ]
    },
    {
     "name": "stdout",
     "output_type": "stream",
     "text": [
      "\n",
      "RESULTS FOR rbf KERNEL\n",
      "\n",
      "Best parameters set found:\n",
      "{'C': 10, 'gamma': 0.01}\n",
      "Score with best parameters:\n",
      "0.923\n",
      "\n",
      "All scores on the grid:\n",
      "{'mean_fit_time': array([1.2672493 , 2.61418629, 2.85145483, 1.31271811, 2.84702377,\n",
      "       2.7264843 , 1.22550783, 2.63095174, 2.62498398]), 'std_fit_time': array([0.04071425, 0.04884428, 0.13523966, 0.02259882, 0.07767057,\n",
      "       0.06728213, 0.02940438, 0.05001711, 0.03252283]), 'mean_score_time': array([0.28983078, 0.34434981, 0.37783294, 0.28453851, 0.37191062,\n",
      "       0.37189837, 0.26730485, 0.33761253, 0.36083999]), 'std_score_time': array([0.01176322, 0.01014732, 0.01729524, 0.01383929, 0.03532785,\n",
      "       0.00219413, 0.01724325, 0.01486717, 0.01015581]), 'param_C': masked_array(data=[1, 1, 1, 10, 10, 10, 100, 100, 100],\n",
      "             mask=[False, False, False, False, False, False, False, False,\n",
      "                   False],\n",
      "       fill_value='?',\n",
      "            dtype=object), 'param_gamma': masked_array(data=[0.01, 0.1, 1.0, 0.01, 0.1, 1.0, 0.01, 0.1, 1.0],\n",
      "             mask=[False, False, False, False, False, False, False, False,\n",
      "                   False],\n",
      "       fill_value='?',\n",
      "            dtype=object), 'params': [{'C': 1, 'gamma': 0.01}, {'C': 1, 'gamma': 0.1}, {'C': 1, 'gamma': 1.0}, {'C': 10, 'gamma': 0.01}, {'C': 10, 'gamma': 0.1}, {'C': 10, 'gamma': 1.0}, {'C': 100, 'gamma': 0.01}, {'C': 100, 'gamma': 0.1}, {'C': 100, 'gamma': 1.0}], 'split0_test_score': array([0.92156863, 0.4754902 , 0.12745098, 0.93627451, 0.52941176,\n",
      "       0.12745098, 0.93627451, 0.52941176, 0.12745098]), 'split1_test_score': array([0.89108911, 0.42079208, 0.12871287, 0.91089109, 0.46534653,\n",
      "       0.12871287, 0.91089109, 0.46534653, 0.12871287]), 'split2_test_score': array([0.895, 0.38 , 0.125, 0.91 , 0.46 , 0.125, 0.91 , 0.46 , 0.125]), 'split3_test_score': array([0.91959799, 0.39698492, 0.12562814, 0.92462312, 0.44723618,\n",
      "       0.12562814, 0.92462312, 0.44723618, 0.12562814]), 'split4_test_score': array([0.91282051, 0.41538462, 0.12820513, 0.93333333, 0.45128205,\n",
      "       0.12820513, 0.93333333, 0.45128205, 0.12820513]), 'mean_test_score': array([0.908, 0.418, 0.127, 0.923, 0.471, 0.127, 0.923, 0.471, 0.127]), 'std_test_score': array([0.0126659 , 0.03246288, 0.00144633, 0.01098689, 0.03024707,\n",
      "       0.00144633, 0.01098689, 0.03024707, 0.00144633]), 'rank_test_score': array([3, 6, 7, 1, 4, 7, 1, 4, 7]), 'split0_train_score': array([0.98115578, 1.        , 1.        , 1.        , 1.        ,\n",
      "       1.        , 1.        , 1.        , 1.        ]), 'split1_train_score': array([0.97619048, 1.        , 1.        , 1.        , 1.        ,\n",
      "       1.        , 1.        , 1.        , 1.        ]), 'split2_train_score': array([0.9825, 1.    , 1.    , 1.    , 1.    , 1.    , 1.    , 1.    ,\n",
      "       1.    ]), 'split3_train_score': array([0.98127341, 1.        , 1.        , 1.        , 1.        ,\n",
      "       1.        , 1.        , 1.        , 1.        ]), 'split4_train_score': array([0.97763975, 1.        , 1.        , 1.        , 1.        ,\n",
      "       1.        , 1.        , 1.        , 1.        ]), 'mean_train_score': array([0.97975188, 1.        , 1.        , 1.        , 1.        ,\n",
      "       1.        , 1.        , 1.        , 1.        ]), 'std_train_score': array([0.00240761, 0.        , 0.        , 0.        , 0.        ,\n",
      "       0.        , 0.        , 0.        , 0.        ])}\n"
     ]
    },
    {
     "name": "stderr",
     "output_type": "stream",
     "text": [
      "C:\\Users\\irems\\Anaconda3\\lib\\site-packages\\sklearn\\svm\\base.py:196: FutureWarning: The default value of gamma will change from 'auto' to 'scale' in version 0.22 to account better for unscaled features. Set gamma explicitly to 'auto' or 'scale' to avoid this warning.\n",
      "  \"avoid this warning.\", FutureWarning)\n"
     ]
    }
   ],
   "source": [
    "m_training = 1000\n",
    "\n",
    "X_train, X_test = X[:m_training], X[m_training:]\n",
    "y_train, y_test = y[:m_training], y[m_training:]\n",
    "\n",
    "#import SVC\n",
    "from sklearn.svm import SVC\n",
    "#import for Cross-Validation\n",
    "from sklearn.model_selection import GridSearchCV\n",
    "\n",
    "# parameters for linear SVM\n",
    "parameters = {'C': [1, 10, 100]}\n",
    "\n",
    "#run linear SVM\n",
    "linear_SVM = SVC(kernel='linear')\n",
    "\n",
    "\n",
    "#find best model uusing 5-fold CV \n",
    "#and train it using all the training data\n",
    "# ADD CODE\n",
    "#cv default value if None, changed from 3-fold to 5-fold.\n",
    "cross_val = GridSearchCV(estimator=linear_SVM, param_grid =parameters, cv = 5)\n",
    "cross_val.fit(X_train, y_train)\n",
    "\n",
    "\n",
    "print ('RESULTS FOR LINEAR KERNEL\\n')\n",
    " \n",
    "print(\"Best parameters set found:\")\n",
    "# ADD CODE\n",
    "print(cross_val.best_params_)\n",
    "\n",
    "print(\"Score with best parameters:\")\n",
    "# ADD CODE\n",
    "print(cross_val.best_score_)\n",
    "\n",
    "    \n",
    "print(\"\\nAll scores on the grid:\")\n",
    "print(cross_val.cv_results_)\n",
    "\n",
    "\n",
    "# parameters for poly with degree 2 kernel\n",
    "parameters = {'C': [1, 10, 100],'gamma':[0.01,0.1,1.]}\n",
    "\n",
    "#run SVM with poly of degree 2 kernel\n",
    "poly2_SVM = SVC(kernel='poly',degree=2)\n",
    "\n",
    "# ADD CODE: DO THE SAME AS ABOVE FOR POLYNOMIAL KERNEL WITH DEGREE=2\n",
    "\n",
    "cross_val2 = GridSearchCV(estimator=poly2_SVM, param_grid =parameters, cv = 5)\n",
    "\n",
    "cross_val2.fit(X_train, y_train)\n",
    "\n",
    "print ('\\nRESULTS FOR POLY DEGREE=2 KERNEL\\n')\n",
    "\n",
    "print(\"Best parameters set found:\")\n",
    "# ADD CODE\n",
    "print(cross_val2.best_params_)\n",
    "\n",
    "print(\"Score with best parameters:\")\n",
    "print(cross_val2.best_score_)\n",
    "\n",
    "print(\"\\nAll scores on the grid:\")\n",
    "# ADD CODE\n",
    "print(cross_val2.cv_results_)\n",
    "\n",
    "# parameters for rbf SVM\n",
    "parameters = {'C': [1, 10, 100],'gamma':[0.01,0.1,1.]}\n",
    "\n",
    "#run SVM with rbf kernel\n",
    "rbf_SVM = SVC(kernel='rbf')\n",
    "cross_val3 = GridSearchCV(estimator=rbf_SVM, param_grid =parameters, cv = 5)\n",
    "\n",
    "cross_val3.fit(X_train, y_train)\n",
    "\n",
    "# ADD CODE: DO THE SAME AS ABOVE FOR RBF KERNEL\n",
    "\n",
    "print ('\\nRESULTS FOR rbf KERNEL\\n')\n",
    "\n",
    "print(\"Best parameters set found:\")\n",
    "print(cross_val3.best_params_)\n",
    "\n",
    "print(\"Score with best parameters:\")\n",
    "print(cross_val3.best_score_)\n",
    "\n",
    "print(\"\\nAll scores on the grid:\")\n",
    "print(cross_val3.cv_results_) \n",
    "\n",
    "#get training and test error for the best SVM model from CV\n",
    "parameters = {'C': [10],'gamma':[0.01]}\n",
    "rbf_SVM = SVC(kernel='rbf')\n",
    "best_SVM = rbf_SVM\n",
    "\n",
    "# fit the model on the entire training set\n",
    "# ADD CODE\n",
    "best_SVM.fit(X_train, y_train)\n",
    "\n",
    "#get the training and test error\n",
    "training_error = 1. - best_SVM.score(X_train,y_train)\n",
    "test_error = 1. - best_SVM.score(X_test,y_test)\n",
    "\n",
    "print (\"Best SVM training error: %f\" % training_error)\n",
    "print (\"Best SVM test error: %f\" % test_error)\n",
    "from sklearn import linear_model\n",
    "\n",
    "lr = linear_model.LogisticRegression()\n",
    "# fit the model on the training data\n",
    "# ADD CODE\n",
    "lr.fit(X_train, y_train)\n",
    "\n",
    "#compute training and test error for model above\n",
    "training_error = 1 - lr.score(X_train,y_train)\n",
    "test_error = 1 - lr.score(X_test,y_test)\n",
    "\n",
    "print (\"Best logistic regression training error: %f\" % training_error)\n",
    "print (\"Best logistic regression test error: %f\" % test_error)\n",
    "\n",
    "#logistic regression with 5-fold CV: you can use use linear_model.LogisticRegressionCV\n",
    "# use 5-fold CV to find the best choice of the parameter, than train\n",
    "# the model on the entire training set\n",
    "#Changed in version 0.22: cv default value if None changed from 3-fold to 5-fold.\n",
    "lr_cv = linear_model.LogisticRegressionCV(cv = 5)\n",
    "lr_cv.fit(X_train,y_train)\n",
    "training_error_cv = 1 - lr_cv.score(X_train, y_train)\n",
    "test_error_cv = 1 - lr_cv.score(X_test, y_test)\n",
    "\n",
    "print (\"Best logistic regression training error: %f\" % training_error_cv)\n",
    "print (\"Best logistic regression test error: %f\" % test_error_cv)"
   ]
  },
  {
   "cell_type": "code",
   "execution_count": null,
   "metadata": {},
   "outputs": [],
   "source": []
  }
 ],
 "metadata": {
  "kernelspec": {
   "display_name": "Python 3",
   "language": "python",
   "name": "python3"
  },
  "language_info": {
   "codemirror_mode": {
    "name": "ipython",
    "version": 3
   },
   "file_extension": ".py",
   "mimetype": "text/x-python",
   "name": "python",
   "nbconvert_exporter": "python",
   "pygments_lexer": "ipython3",
   "version": "3.8.5"
  }
 },
 "nbformat": 4,
 "nbformat_minor": 4
}
